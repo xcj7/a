{
  "nbformat": 4,
  "nbformat_minor": 0,
  "metadata": {
    "colab": {
      "provenance": [],
      "authorship_tag": "ABX9TyPHEy+MuVpYlB1XJUhilKMK",
      "include_colab_link": true
    },
    "kernelspec": {
      "name": "python3",
      "display_name": "Python 3"
    },
    "language_info": {
      "name": "python"
    }
  },
  "cells": [
    {
      "cell_type": "markdown",
      "metadata": {
        "id": "view-in-github",
        "colab_type": "text"
      },
      "source": [
        "<a href=\"https://colab.research.google.com/github/xcj7/a/blob/main/django_project_1.ipynb\" target=\"_parent\"><img src=\"https://colab.research.google.com/assets/colab-badge.svg\" alt=\"Open In Colab\"/></a>"
      ]
    },
    {
      "cell_type": "code",
      "execution_count": 1,
      "metadata": {
        "colab": {
          "base_uri": "https://localhost:8080/"
        },
        "id": "dZWhfhz_AV3Z",
        "outputId": "3fe8e4e5-5db1-437c-e291-2678f0798000"
      },
      "outputs": [
        {
          "output_type": "stream",
          "name": "stdout",
          "text": [
            "Looking in indexes: https://pypi.org/simple, https://us-python.pkg.dev/colab-wheels/public/simple/\n",
            "Collecting django\n",
            "  Downloading Django-3.2.16-py3-none-any.whl (7.9 MB)\n",
            "\u001b[K     |████████████████████████████████| 7.9 MB 5.0 MB/s \n",
            "\u001b[?25hCollecting asgiref<4,>=3.3.2\n",
            "  Downloading asgiref-3.5.2-py3-none-any.whl (22 kB)\n",
            "Requirement already satisfied: sqlparse>=0.2.2 in /usr/local/lib/python3.7/dist-packages (from django) (0.4.3)\n",
            "Requirement already satisfied: pytz in /usr/local/lib/python3.7/dist-packages (from django) (2022.5)\n",
            "Requirement already satisfied: typing-extensions in /usr/local/lib/python3.7/dist-packages (from asgiref<4,>=3.3.2->django) (4.1.1)\n",
            "Installing collected packages: asgiref, django\n",
            "Successfully installed asgiref-3.5.2 django-3.2.16\n"
          ]
        }
      ],
      "source": [
        "!pip install django\n"
      ]
    },
    {
      "cell_type": "code",
      "source": [
        "!django-admin startproject HelloWorld"
      ],
      "metadata": {
        "id": "5g8LPxapAt-I"
      },
      "execution_count": 2,
      "outputs": []
    },
    {
      "cell_type": "code",
      "source": [
        "%cd HelloWorld"
      ],
      "metadata": {
        "colab": {
          "base_uri": "https://localhost:8080/"
        },
        "id": "AGh8XFg1AuGf",
        "outputId": "ae3ac50d-8de0-4dc3-d056-64c32fa97117"
      },
      "execution_count": 3,
      "outputs": [
        {
          "output_type": "stream",
          "name": "stdout",
          "text": [
            "/content/HelloWorld\n"
          ]
        }
      ]
    },
    {
      "cell_type": "code",
      "source": [
        "!python manage.py startapp HelloWorld_App"
      ],
      "metadata": {
        "id": "4F3IoNReAuKb"
      },
      "execution_count": 4,
      "outputs": []
    },
    {
      "cell_type": "code",
      "source": [
        "%cd HelloWorld_App"
      ],
      "metadata": {
        "colab": {
          "base_uri": "https://localhost:8080/"
        },
        "id": "PO4PqZC2AuNx",
        "outputId": "291089cd-ef2b-4048-c97c-2930f38b3e91"
      },
      "execution_count": 5,
      "outputs": [
        {
          "output_type": "stream",
          "name": "stdout",
          "text": [
            "/content/HelloWorld/HelloWorld_App\n"
          ]
        }
      ]
    },
    {
      "cell_type": "code",
      "source": [
        "%%writefile views.py\n",
        "from django.http import HttpResponse\n",
        "def foo(request):\n",
        "  return HttpResponse(\"Hello World ! \")"
      ],
      "metadata": {
        "colab": {
          "base_uri": "https://localhost:8080/"
        },
        "id": "SsbwQI6WAuUX",
        "outputId": "309d6c11-a704-4418-e273-49b20676dbb6"
      },
      "execution_count": 7,
      "outputs": [
        {
          "output_type": "stream",
          "name": "stdout",
          "text": [
            "Overwriting views.py\n"
          ]
        }
      ]
    },
    {
      "cell_type": "code",
      "source": [
        "!pip install pyngrok --quiet"
      ],
      "metadata": {
        "id": "gNZO6RCZAuXx"
      },
      "execution_count": 10,
      "outputs": []
    },
    {
      "cell_type": "code",
      "source": [],
      "metadata": {
        "id": "lwfajQEeAuao"
      },
      "execution_count": null,
      "outputs": []
    },
    {
      "cell_type": "code",
      "source": [
        "from pyngrok import ngrok\n",
        "\n",
        "#Terminate open tunnels if exist\n",
        "ngrok.kill()\n",
        "auth_token=\"\"\n",
        "ngrok.set_auth_token(auth_token)\n",
        "ngrok.connect(7000)"
      ],
      "metadata": {
        "colab": {
          "base_uri": "https://localhost:8080/"
        },
        "id": "NJt3yJ2YAugP",
        "outputId": "2b2aceeb-35a6-4627-d9d3-f01b0355aa3e"
      },
      "execution_count": 11,
      "outputs": [
        {
          "output_type": "stream",
          "name": "stdout",
          "text": []
        },
        {
          "output_type": "execute_result",
          "data": {
            "text/plain": [
              "<NgrokTunnel: \"http://f261-35-243-179-50.ngrok.io\" -> \"http://localhost:7000\">"
            ]
          },
          "metadata": {},
          "execution_count": 11
        }
      ]
    },
    {
      "cell_type": "code",
      "source": [
        "%cd /content/HelloWorld"
      ],
      "metadata": {
        "colab": {
          "base_uri": "https://localhost:8080/"
        },
        "id": "mKll3EoZAul_",
        "outputId": "0cad145f-eebc-46e2-eb75-eafcd5457098"
      },
      "execution_count": 12,
      "outputs": [
        {
          "output_type": "stream",
          "name": "stdout",
          "text": [
            "/content/HelloWorld\n"
          ]
        }
      ]
    },
    {
      "cell_type": "code",
      "source": [
        "!python manage.py migrate"
      ],
      "metadata": {
        "colab": {
          "base_uri": "https://localhost:8080/"
        },
        "id": "C37vmu2PAupQ",
        "outputId": "c331e60b-7b63-48b4-b730-4f0daef1daa7"
      },
      "execution_count": 13,
      "outputs": [
        {
          "output_type": "stream",
          "name": "stdout",
          "text": [
            "Traceback (most recent call last):\n",
            "  File \"manage.py\", line 22, in <module>\n",
            "    main()\n",
            "  File \"manage.py\", line 18, in main\n",
            "    execute_from_command_line(sys.argv)\n",
            "  File \"/usr/local/lib/python3.7/dist-packages/django/core/management/__init__.py\", line 419, in execute_from_command_line\n",
            "    utility.execute()\n",
            "  File \"/usr/local/lib/python3.7/dist-packages/django/core/management/__init__.py\", line 413, in execute\n",
            "    self.fetch_command(subcommand).run_from_argv(self.argv)\n",
            "  File \"/usr/local/lib/python3.7/dist-packages/django/core/management/base.py\", line 354, in run_from_argv\n",
            "    self.execute(*args, **cmd_options)\n",
            "  File \"/usr/local/lib/python3.7/dist-packages/django/core/management/base.py\", line 398, in execute\n",
            "    output = self.handle(*args, **options)\n",
            "  File \"/usr/local/lib/python3.7/dist-packages/django/core/management/base.py\", line 89, in wrapped\n",
            "    res = handle_func(*args, **kwargs)\n",
            "  File \"/usr/local/lib/python3.7/dist-packages/django/core/management/commands/migrate.py\", line 75, in handle\n",
            "    self.check(databases=[database])\n",
            "  File \"/usr/local/lib/python3.7/dist-packages/django/core/management/base.py\", line 423, in check\n",
            "    databases=databases,\n",
            "  File \"/usr/local/lib/python3.7/dist-packages/django/core/checks/registry.py\", line 76, in run_checks\n",
            "    new_errors = check(app_configs=app_configs, databases=databases)\n",
            "  File \"/usr/local/lib/python3.7/dist-packages/django/core/checks/urls.py\", line 13, in check_url_config\n",
            "    return check_resolver(resolver)\n",
            "  File \"/usr/local/lib/python3.7/dist-packages/django/core/checks/urls.py\", line 23, in check_resolver\n",
            "    return check_method()\n",
            "  File \"/usr/local/lib/python3.7/dist-packages/django/urls/resolvers.py\", line 416, in check\n",
            "    for pattern in self.url_patterns:\n",
            "  File \"/usr/local/lib/python3.7/dist-packages/django/utils/functional.py\", line 48, in __get__\n",
            "    res = instance.__dict__[self.name] = self.func(instance)\n",
            "  File \"/usr/local/lib/python3.7/dist-packages/django/urls/resolvers.py\", line 602, in url_patterns\n",
            "    patterns = getattr(self.urlconf_module, \"urlpatterns\", self.urlconf_module)\n",
            "  File \"/usr/local/lib/python3.7/dist-packages/django/utils/functional.py\", line 48, in __get__\n",
            "    res = instance.__dict__[self.name] = self.func(instance)\n",
            "  File \"/usr/local/lib/python3.7/dist-packages/django/urls/resolvers.py\", line 595, in urlconf_module\n",
            "    return import_module(self.urlconf_name)\n",
            "  File \"/usr/lib/python3.7/importlib/__init__.py\", line 127, in import_module\n",
            "    return _bootstrap._gcd_import(name[level:], package, level)\n",
            "  File \"<frozen importlib._bootstrap>\", line 1006, in _gcd_import\n",
            "  File \"<frozen importlib._bootstrap>\", line 983, in _find_and_load\n",
            "  File \"<frozen importlib._bootstrap>\", line 967, in _find_and_load_unlocked\n",
            "  File \"<frozen importlib._bootstrap>\", line 677, in _load_unlocked\n",
            "  File \"<frozen importlib._bootstrap_external>\", line 728, in exec_module\n",
            "  File \"<frozen importlib._bootstrap>\", line 219, in _call_with_frames_removed\n",
            "  File \"/content/HelloWorld/HelloWorld/urls.py\", line 22, in <module>\n",
            "    path('',views.index,name=\"homepage\")\n",
            "AttributeError: module 'HelloWorld_App.views' has no attribute 'index'\n"
          ]
        }
      ]
    },
    {
      "cell_type": "code",
      "source": [],
      "metadata": {
        "id": "a7_bJBKrAusx"
      },
      "execution_count": null,
      "outputs": []
    },
    {
      "cell_type": "code",
      "source": [],
      "metadata": {
        "id": "pM2vXTBWAuwH"
      },
      "execution_count": null,
      "outputs": []
    },
    {
      "cell_type": "code",
      "source": [],
      "metadata": {
        "id": "X4nx9h5KAvT4"
      },
      "execution_count": null,
      "outputs": []
    },
    {
      "cell_type": "code",
      "source": [],
      "metadata": {
        "id": "NKvWri5YAvWy"
      },
      "execution_count": null,
      "outputs": []
    },
    {
      "cell_type": "code",
      "source": [],
      "metadata": {
        "id": "2WyZzrYUAvZa"
      },
      "execution_count": null,
      "outputs": []
    },
    {
      "cell_type": "code",
      "source": [],
      "metadata": {
        "id": "UMpc3DLDAvcK"
      },
      "execution_count": null,
      "outputs": []
    },
    {
      "cell_type": "code",
      "source": [],
      "metadata": {
        "id": "YGSEEh1NAvem"
      },
      "execution_count": null,
      "outputs": []
    }
  ]
}